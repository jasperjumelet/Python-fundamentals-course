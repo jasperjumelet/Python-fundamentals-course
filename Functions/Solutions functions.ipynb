{
 "cells": [
  {
   "cell_type": "markdown",
   "metadata": {},
   "source": [
    "### Exercise 1: write a function named hello that prints \"hello world\""
   ]
  },
  {
   "cell_type": "code",
   "execution_count": 1,
   "metadata": {},
   "outputs": [
    {
     "name": "stdout",
     "output_type": "stream",
     "text": [
      "hello world\n"
     ]
    }
   ],
   "source": [
    "def hello():\n",
    "    print(\"hello world\")\n",
    "\n",
    "hello()"
   ]
  },
  {
   "cell_type": "markdown",
   "metadata": {},
   "source": [
    "### Exercise 2: write a function named addition that returns the sum of the given parameters"
   ]
  },
  {
   "cell_type": "code",
   "execution_count": 3,
   "metadata": {},
   "outputs": [
    {
     "data": {
      "text/plain": [
       "9"
      ]
     },
     "execution_count": 3,
     "metadata": {},
     "output_type": "execute_result"
    }
   ],
   "source": [
    "def addition(x, y):\n",
    "    return x + y\n",
    "\n",
    "addition(4, 5)"
   ]
  },
  {
   "cell_type": "markdown",
   "metadata": {},
   "source": [
    "### Exercise 3: write a function that takes 3 parameters, no1, no2 and operator and return the operation for no1 and no2 so if i give calc(6, 2, \"-\") this will return 4 and if i give calc(4, 3, \"*\") this returns 12"
   ]
  },
  {
   "cell_type": "code",
   "execution_count": 4,
   "metadata": {},
   "outputs": [
    {
     "name": "stdout",
     "output_type": "stream",
     "text": [
      "4\n",
      "16\n",
      "6\n",
      "2.0\n"
     ]
    }
   ],
   "source": [
    "def calc(no1, no2, op):\n",
    "    if op == \"-\":\n",
    "        return no1 - no2\n",
    "    elif op == \"*\":\n",
    "        return no1 * no2\n",
    "    elif op == \"+\":\n",
    "        return no1 + no2\n",
    "    elif op == \"/\":\n",
    "        return no1 / no2\n",
    "    else:\n",
    "        print(\"select a valid operator\")\n",
    "\n",
    "print(calc(6, 2, \"-\")) # should print 4\n",
    "print(calc(4, 4, \"*\")) # should print 16\n",
    "print(calc(2, 4, \"+\")) # should print 6\n",
    "print(calc(4, 2, \"/\")) # should print 2.0"
   ]
  },
  {
   "cell_type": "markdown",
   "metadata": {},
   "source": [
    "### Exercise 4: write 2 functions one named mult which returns the mulitplication of 2 values and 1 named add_5 which add 5 to the parameter"
   ]
  },
  {
   "cell_type": "code",
   "execution_count": 5,
   "metadata": {},
   "outputs": [
    {
     "name": "stdout",
     "output_type": "stream",
     "text": [
      "25\n"
     ]
    }
   ],
   "source": [
    "def mult(x, y):\n",
    "    return x * y\n",
    "\n",
    "def add_5(z):\n",
    "    return z + 5\n",
    "\n",
    "print(add_5(mult(4, 5))) # should print 25"
   ]
  },
  {
   "cell_type": "code",
   "execution_count": null,
   "metadata": {},
   "outputs": [],
   "source": []
  }
 ],
 "metadata": {
  "kernelspec": {
   "display_name": "Python 3",
   "language": "python",
   "name": "python3"
  },
  "language_info": {
   "codemirror_mode": {
    "name": "ipython",
    "version": 3
   },
   "file_extension": ".py",
   "mimetype": "text/x-python",
   "name": "python",
   "nbconvert_exporter": "python",
   "pygments_lexer": "ipython3",
   "version": "3.8.3"
  }
 },
 "nbformat": 4,
 "nbformat_minor": 4
}
