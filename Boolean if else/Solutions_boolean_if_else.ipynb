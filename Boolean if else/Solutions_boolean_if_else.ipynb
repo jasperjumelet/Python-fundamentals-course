{
 "cells": [
  {
   "cell_type": "markdown",
   "metadata": {},
   "source": [
    "### Exercise 1: print x if it is between 16 and 20\n",
    "Test this by filling in different values for x"
   ]
  },
  {
   "cell_type": "code",
   "execution_count": null,
   "metadata": {},
   "outputs": [],
   "source": [
    "x = 4\n",
    "\n",
    "if x < 20 and x > 16:\n",
    "    print(x)"
   ]
  },
  {
   "cell_type": "markdown",
   "metadata": {},
   "source": [
    "### Exercise 2: print True if there are any vowels (u,i,o,a,e) are in x "
   ]
  },
  {
   "cell_type": "code",
   "execution_count": null,
   "metadata": {},
   "outputs": [],
   "source": [
    "x = \"hello\"\n",
    "\n",
    "\n",
    "if \"u\" in x or \"i\" in x or \"o\" in x or \"a\" in x or \"e\" in x:\n",
    "    print(True)\n",
    "    \n",
    "# another solution is\n",
    "answer = False\n",
    "list_of_vowels = [\"u\", \"i\", \"o\", \"a\", \"e\"]\n",
    "for letter in list_of_vowels:\n",
    "    if letter in x:\n",
    "        answer = True\n",
    "print(answer)"
   ]
  },
  {
   "cell_type": "markdown",
   "metadata": {},
   "source": [
    "### Exercise 3: print all the even numbers\n",
    "for more info about for loops https://www.w3schools.com/python/python_for_loops.asp"
   ]
  },
  {
   "cell_type": "code",
   "execution_count": null,
   "metadata": {},
   "outputs": [],
   "source": [
    "for number in range(100):\n",
    "    if number % 2 == 0:\n",
    "        print(number)"
   ]
  },
  {
   "cell_type": "markdown",
   "metadata": {},
   "source": [
    "### Exercise 4: print all the odd numbers"
   ]
  },
  {
   "cell_type": "code",
   "execution_count": null,
   "metadata": {},
   "outputs": [],
   "source": [
    "for number in range(100):\n",
    "    if number % 2 == 1:\n",
    "        print(number)"
   ]
  },
  {
   "cell_type": "markdown",
   "metadata": {},
   "source": [
    "### Exercise 5 Bonus: complete the rock paper scissors game"
   ]
  },
  {
   "cell_type": "code",
   "execution_count": null,
   "metadata": {},
   "outputs": [],
   "source": [
    "import random\n",
    "\n",
    "player_choice = input(\"Welcome to rock paper scissors, fill in rock, paper or scissors: \")\n",
    "\n",
    "comp_choice = random.choice([\"rock\", \"paper\", \"scissors\"])\n",
    "\n",
    "print(\"computer selected \" + comp_choice)\n",
    "\n",
    "if player_choice == comp_choice:\n",
    "    print(\"It is a draw\")\n",
    "    \n",
    "elif player_choice == \"rock\" and comp_choice == \"scissors\" or player_choice == \"paper\" and comp_choice == \"rock\" or player_choice == \"scissors\" and comp_choice == \"paper\":\n",
    "    print(\"congratulations you win\")\n",
    "\n",
    "else:\n",
    "    print(\"You lose, you should try again\")"
   ]
  },
  {
   "cell_type": "code",
   "execution_count": null,
   "metadata": {},
   "outputs": [],
   "source": []
  }
 ],
 "metadata": {
  "kernelspec": {
   "display_name": "Python 3",
   "language": "python",
   "name": "python3"
  },
  "language_info": {
   "codemirror_mode": {
    "name": "ipython",
    "version": 3
   },
   "file_extension": ".py",
   "mimetype": "text/x-python",
   "name": "python",
   "nbconvert_exporter": "python",
   "pygments_lexer": "ipython3",
   "version": "3.8.3"
  }
 },
 "nbformat": 4,
 "nbformat_minor": 4
}
