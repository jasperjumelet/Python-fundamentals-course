{
 "cells": [
  {
   "cell_type": "markdown",
   "metadata": {},
   "source": [
    "### Exercise 1: Grab the word \"hello\" from x"
   ]
  },
  {
   "cell_type": "code",
   "execution_count": null,
   "metadata": {},
   "outputs": [],
   "source": [
    "x = \"hello slice this string\"\n",
    "\n",
    "x[:5]"
   ]
  },
  {
   "cell_type": "markdown",
   "metadata": {},
   "source": [
    "### Exercise 2: Grab the word \"this\" from x"
   ]
  },
  {
   "cell_type": "code",
   "execution_count": null,
   "metadata": {},
   "outputs": [],
   "source": [
    "x[12:16]"
   ]
  },
  {
   "cell_type": "markdown",
   "metadata": {},
   "source": [
    "### Exercise 3: print every following letter like \"hlosieti tig\""
   ]
  },
  {
   "cell_type": "code",
   "execution_count": null,
   "metadata": {},
   "outputs": [],
   "source": [
    "x[::2]"
   ]
  },
  {
   "cell_type": "markdown",
   "metadata": {},
   "source": [
    "### Exercise 4: print the 2nd and 3th item from the list y\n"
   ]
  },
  {
   "cell_type": "code",
   "execution_count": null,
   "metadata": {},
   "outputs": [],
   "source": [
    "y = [\"this\", \"is\", \"a\", \"beautiful\", \"list\"]\n",
    "print(y[1])\n",
    "print(y[2])"
   ]
  },
  {
   "cell_type": "markdown",
   "metadata": {},
   "source": [
    "### Bonus: make a game of hangman \n",
    "rules are: Game for 2 persons 1 who fills in the word and the other person needs to guess the word, the quesser can make 12 mistakes to quess the correct word after each guess the string will be displayed with all the guessed letters like \".anana\" where the dot means that the word is not yet quessed. \n",
    "    "
   ]
  },
  {
   "cell_type": "code",
   "execution_count": null,
   "metadata": {},
   "outputs": [],
   "source": []
  },
  {
   "cell_type": "code",
   "execution_count": null,
   "metadata": {},
   "outputs": [],
   "source": [
    "# Hangman game\n",
    "def isWordGuessed(secretWord, lettersGuessed):\n",
    "    '''\n",
    "    secretWord: string, the word the user is guessing\n",
    "    lettersGuessed: list, what letters have been guessed so far\n",
    "    returns: boolean, True if all the letters of secretWord are in lettersGuessed;\n",
    "      False otherwise\n",
    "    '''\n",
    "    c=0\n",
    "    for i in lettersGuessed:\n",
    "        if i in secretWord:\n",
    "            c+=1\n",
    "    if c==len(secretWord):\n",
    "        return True\n",
    "    else:\n",
    "        return False\n",
    "\n",
    "\n",
    "def getGuessedWord(secretWord, lettersGuessed):\n",
    "    '''\n",
    "    secretWord: string, the word the user is guessing\n",
    "    lettersGuessed: list, what letters have been guessed so far\n",
    "    returns: string, comprised of letters and underscores that represents\n",
    "      what letters in secretWord have been guessed so far.\n",
    "    '''\n",
    "    s=[]\n",
    "    for i in secretWord:\n",
    "        if i in lettersGuessed:\n",
    "            s.append(i)\n",
    "    ans=''\n",
    "    for i in secretWord:\n",
    "        if i in s:\n",
    "            ans+=i\n",
    "        else:\n",
    "            ans+='_ '\n",
    "    return ans\n",
    "\n",
    "\n",
    "\n",
    "def getAvailableLetters(lettersGuessed):\n",
    "    '''\n",
    "    lettersGuessed: list, what letters have been guessed so far\n",
    "    returns: string, comprised of letters that represents what letters have not\n",
    "      yet been guessed.\n",
    "    '''\n",
    "    import string\n",
    "    ans=list(string.ascii_lowercase)\n",
    "    for i in lettersGuessed:\n",
    "        ans.remove(i)\n",
    "    return ''.join(ans)\n",
    "\n",
    "def hangman(secretWord):\n",
    "    '''\n",
    "    secretWord: string, the secret word to guess.\n",
    "    Starts up an interactive game of Hangman.\n",
    "    * At the start of the game, let the user know how many \n",
    "      letters the secretWord contains.\n",
    "    * Ask the user to supply one guess (i.e. letter) per round.\n",
    "    * The user should receive feedback immediately after each guess \n",
    "      about whether their guess appears in the computers word.\n",
    "    * After each round, you should also display to the user the \n",
    "      partially guessed word so far, as well as letters that the \n",
    "      user has not yet guessed.\n",
    "    Follows the other limitations detailed in the problem write-up.\n",
    "    '''\n",
    "    print(\"Welcome to the game, Hangman!\")\n",
    "    print(\"I am thinking of a word that is\",len(secretWord),\"letters long.\")\n",
    "    \n",
    "    global lettersGuessed\n",
    "    mistakeMade=0\n",
    "    lettersGuessed=[]\n",
    "    \n",
    "    while 12 - mistakeMade > 0:\n",
    "        print(secretWord, lettersGuessed)\n",
    "        if isWordGuessed(secretWord, lettersGuessed):\n",
    "            print(\"-------------\")\n",
    "            print(\"Congratulations, you won!\")\n",
    "            break\n",
    "            \n",
    "        else:\n",
    "            print(\"-------------\")\n",
    "            print(\"You have\",12-mistakeMade,\"guesses left.\")\n",
    "            print(\"Available letters:\",getAvailableLetters(lettersGuessed))\n",
    "            guess=str(input(\"Please guess a letter: \")).lower()\n",
    "            \n",
    "            if guess in lettersGuessed:\n",
    "                print(\"Oops! You've already guessed that letter:\",getGuessedWord(secretWord,lettersGuessed))\n",
    "                \n",
    "            elif guess in secretWord and guess not in lettersGuessed:\n",
    "                lettersGuessed.append(guess)\n",
    "                print(\"Good guess:\",getGuessedWord(secretWord,lettersGuessed))\n",
    "                \n",
    "            else:\n",
    "                lettersGuessed.append(guess)\n",
    "                mistakeMade += 1\n",
    "                print(\"Oops! That letter is not in my word:\",getGuessedWord(secretWord,lettersGuessed))\n",
    "                \n",
    "        if 12 - mistakeMade == 0:\n",
    "            print(\"-------------\")\n",
    "            print(\"Sorry, you ran out of guesses. The word was else.\",secretWord)\n",
    "            break\n",
    "        \n",
    "        else:\n",
    "            continue\n",
    "\n",
    "\n",
    "secretWord = input(\"fill in a word the other player needs to quess!\")\n",
    "hangman(secretWord)"
   ]
  },
  {
   "cell_type": "code",
   "execution_count": null,
   "metadata": {},
   "outputs": [],
   "source": []
  }
 ],
 "metadata": {
  "kernelspec": {
   "display_name": "Python 3",
   "language": "python",
   "name": "python3"
  },
  "language_info": {
   "codemirror_mode": {
    "name": "ipython",
    "version": 3
   },
   "file_extension": ".py",
   "mimetype": "text/x-python",
   "name": "python",
   "nbconvert_exporter": "python",
   "pygments_lexer": "ipython3",
   "version": "3.8.3"
  }
 },
 "nbformat": 4,
 "nbformat_minor": 4
}
